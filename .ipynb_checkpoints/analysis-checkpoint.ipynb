{
 "cells": [
  {
   "cell_type": "code",
   "execution_count": 1,
   "metadata": {
    "collapsed": true
   },
   "outputs": [],
   "source": [
    "import numpy as np\n",
    "import matplotlib.pyplot as plt\n",
    "from matplotlib import rcParams\n",
    "rcParams.update({'font.size': 16})\n",
    "%matplotlib inline"
   ]
  },
  {
   "cell_type": "code",
   "execution_count": 7,
   "metadata": {
    "collapsed": false
   },
   "outputs": [],
   "source": [
    "N = list(map(lambda line: line.split(), open(\"N_graphs.txt\", 'r').readlines()))\n",
    "p_shared = int(N[0][-1])\n",
    "\n",
    "P = list(map(lambda line: line.split(), open(\"P_graphs.txt\", 'r').readlines()))\n",
    "n_shared = int(N[0][6])"
   ]
  },
  {
   "cell_type": "code",
   "execution_count": null,
   "metadata": {
    "collapsed": true
   },
   "outputs": [],
   "source": [
    "# Общая функция для рисования графиков\n",
    "def draw_graphs(data, indices, constant):\n",
    "    shared = data[0][constant]\n",
    "    for i in range(indices):\n",
    "        plt.subplot(1, 3, i + 1)\n",
    "        "
   ]
  }
 ],
 "metadata": {
  "kernelspec": {
   "display_name": "Python 3",
   "language": "python",
   "name": "python3"
  },
  "language_info": {
   "codemirror_mode": {
    "name": "ipython",
    "version": 3
   },
   "file_extension": ".py",
   "mimetype": "text/x-python",
   "name": "python",
   "nbconvert_exporter": "python",
   "pygments_lexer": "ipython3",
   "version": "3.6.0"
  }
 },
 "nbformat": 4,
 "nbformat_minor": 2
}
